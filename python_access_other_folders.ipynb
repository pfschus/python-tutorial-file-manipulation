{
 "cells": [
  {
   "cell_type": "markdown",
   "metadata": {},
   "source": [
    "<h1 id=\"tocheading\">Table of Contents</h1>\n",
    "<div id=\"toc\"></div>"
   ]
  },
  {
   "cell_type": "code",
   "execution_count": 92,
   "metadata": {
    "collapsed": false
   },
   "outputs": [
    {
     "data": {
      "application/javascript": [
       "$.getScript('https://kmahelona.github.io/ipython_notebook_goodies/ipython_notebook_toc.js')"
      ],
      "text/plain": [
       "<IPython.core.display.Javascript object>"
      ]
     },
     "metadata": {},
     "output_type": "display_data"
    }
   ],
   "source": [
    "%%javascript\n",
    "$.getScript('https://kmahelona.github.io/ipython_notebook_goodies/ipython_notebook_toc.js')"
   ]
  },
  {
   "cell_type": "markdown",
   "metadata": {},
   "source": [
    "# From python, access scripts and files from other folders on my computer\n",
    "Author: Patricia Schuster  \n",
    "Affiliation: University of Michigan  \n",
    "Date: January 2017"
   ]
  },
  {
   "cell_type": "markdown",
   "metadata": {},
   "source": [
    "# Goal\n",
    "\n",
    "In the process of developing my data analysis scripts, I want to version control those scripts in a git repository on my computer, but operate on data in a different folder on my computer. Thus, I need a way to run python scripts from other folders on my computer.\n",
    "\n",
    "My workplan will be:  \n",
    "- Editing scripts / version-controlled-scripts  \n",
    "- Run python instance from data folder  \n",
    "- Add the scripts folder to the current system path so that I can import scripts to my current session of python"
   ]
  },
  {
   "cell_type": "code",
   "execution_count": 9,
   "metadata": {
    "collapsed": true
   },
   "outputs": [],
   "source": [
    "import sys\n",
    "import os"
   ]
  },
  {
   "cell_type": "markdown",
   "metadata": {
    "collapsed": true
   },
   "source": [
    "# Access files beyond your working directory\n",
    "Wherever you are running your current instance of python. Can change it using the `os` module.\n",
    "\n",
    "If I want to access files outside of the current working directory, I can:\n",
    "\n",
    "1. Use relative paths. By default it creates paths relative to the current working directory. I must always launch Python from within the same directory. This would work well if I have the same folder structure on different computers so the absolute paths differ but the relative paths are the same.\n",
    "2. Or I can change the working directory during the data analysis. That can get messy because I have to keep track of what directory I am in.\n",
    "3. A third and more stable option is to use the full path for any file in another directory I am trying to access. This makes the code successful regardless of what the working directory is. However, it may present problems later if I move my documents from one computer to another or from one parent directory to another.\n",
    "\n",
    "Let's try each of these.\n",
    "\n",
    "First, what is the current working directory?"
   ]
  },
  {
   "cell_type": "code",
   "execution_count": 48,
   "metadata": {
    "collapsed": false
   },
   "outputs": [
    {
     "data": {
      "text/plain": [
       "'C:\\\\Users\\\\pfsch\\\\Box Sync\\\\tutorial\\\\python\\\\2017_01_28_python_access_other_folders'"
      ]
     },
     "execution_count": 48,
     "metadata": {},
     "output_type": "execute_result"
    }
   ],
   "source": [
    "# (Make sure to use import os above)\n",
    "os.getcwd()"
   ]
  },
  {
   "cell_type": "code",
   "execution_count": 49,
   "metadata": {
    "collapsed": true
   },
   "outputs": [],
   "source": [
    "# Store this to a variable\n",
    "starting_path = os.getcwd()"
   ]
  },
  {
   "cell_type": "code",
   "execution_count": 14,
   "metadata": {
    "collapsed": false
   },
   "outputs": [
    {
     "data": {
      "text/plain": [
       "['.ipynb_checkpoints', 'python_access_other_folders.ipynb']"
      ]
     },
     "execution_count": 14,
     "metadata": {},
     "output_type": "execute_result"
    }
   ],
   "source": [
    "# What files are in my current directory?\n",
    "os.listdir(os.getcwd())"
   ]
  },
  {
   "cell_type": "markdown",
   "metadata": {},
   "source": [
    "## 1. Use a relative path:"
   ]
  },
  {
   "cell_type": "code",
   "execution_count": 30,
   "metadata": {
    "collapsed": false
   },
   "outputs": [
    {
     "data": {
      "text/plain": [
       "'..'"
      ]
     },
     "execution_count": 30,
     "metadata": {},
     "output_type": "execute_result"
    }
   ],
   "source": [
    "# What is the path of the parent directory?\n",
    "# Relative to current working directory\n",
    "os.path.pardir"
   ]
  },
  {
   "cell_type": "code",
   "execution_count": 32,
   "metadata": {
    "collapsed": false
   },
   "outputs": [
    {
     "data": {
      "text/plain": [
       "'C:\\\\Users\\\\pfsch\\\\Box Sync\\\\tutorial\\\\python\\\\2017_01_28_python_access_other_folders\\\\..'"
      ]
     },
     "execution_count": 32,
     "metadata": {},
     "output_type": "execute_result"
    }
   ],
   "source": [
    "# Relative to the absolute path of the current working directory\n",
    "os.path.join(os.getcwd(),os.path.pardir)"
   ]
  },
  {
   "cell_type": "code",
   "execution_count": 34,
   "metadata": {
    "collapsed": false
   },
   "outputs": [
    {
     "data": {
      "text/plain": [
       "['2017_01_28_jupyter_table_of_contents',\n",
       " '2017_01_28_python_access_other_folders',\n",
       " 'python-tutorial-plotting']"
      ]
     },
     "execution_count": 34,
     "metadata": {},
     "output_type": "execute_result"
    }
   ],
   "source": [
    "# Print the contents of the parent directory\n",
    "os.listdir(os.path.pardir)"
   ]
  },
  {
   "cell_type": "code",
   "execution_count": 46,
   "metadata": {
    "collapsed": false
   },
   "outputs": [
    {
     "data": {
      "text/plain": [
       "['2017_01_28_jupyter_table_of_contents',\n",
       " '2017_01_28_python_access_other_folders',\n",
       " 'python-tutorial-plotting']"
      ]
     },
     "execution_count": 46,
     "metadata": {},
     "output_type": "execute_result"
    }
   ],
   "source": [
    "# Alternately, use relative path `..`\n",
    "os.listdir('..')"
   ]
  },
  {
   "cell_type": "code",
   "execution_count": 40,
   "metadata": {
    "collapsed": false
   },
   "outputs": [
    {
     "name": "stdout",
     "output_type": "stream",
     "text": [
      "Folder to investigate:  2017_01_28_jupyter_table_of_contents\n",
      "Folder contents: ['ipython_notebook_toc.js']\n"
     ]
    }
   ],
   "source": [
    "# What is in the first folder of the parent directory?\n",
    "print('Folder to investigate: ', os.listdir(os.path.pardir)[0])\n",
    "print('Folder contents:', os.listdir(os.path.join(os.path.pardir,os.listdir(os.path.pardir)[0])))\n",
    "\n",
    "# Charlie says I should store some of these to variables to make it simpler. Nah..."
   ]
  },
  {
   "cell_type": "code",
   "execution_count": 42,
   "metadata": {
    "collapsed": false
   },
   "outputs": [
    {
     "data": {
      "text/plain": [
       "'C:\\\\Users\\\\pfsch\\\\Box Sync\\\\tutorial\\\\python\\\\2017_01_28_jupyter_table_of_contents'"
      ]
     },
     "execution_count": 42,
     "metadata": {},
     "output_type": "execute_result"
    }
   ],
   "source": [
    "# What is the absolute path of a folder, given its relative path\n",
    "os.path.abspath(os.path.join(os.path.pardir,os.listdir(os.path.pardir)[0]))"
   ]
  },
  {
   "cell_type": "code",
   "execution_count": 47,
   "metadata": {
    "collapsed": false
   },
   "outputs": [
    {
     "data": {
      "text/plain": [
       "'..\\\\.'"
      ]
     },
     "execution_count": 47,
     "metadata": {},
     "output_type": "execute_result"
    }
   ],
   "source": [
    "os.path.join(os.path.pardir,'.')"
   ]
  },
  {
   "cell_type": "markdown",
   "metadata": {},
   "source": [
    "## 2. Change the current working directory\n",
    "It some cases it may be easier simply to switch into another folder. That can be accomplished using either absolute or relative paths. \n",
    "\n",
    "Starting with **absolute paths**."
   ]
  },
  {
   "cell_type": "code",
   "execution_count": 61,
   "metadata": {
    "collapsed": false
   },
   "outputs": [
    {
     "data": {
      "text/plain": [
       "'C:\\\\Users\\\\pfsch\\\\Box Sync\\\\tutorial\\\\python\\\\2017_01_28_python_access_other_folders'"
      ]
     },
     "execution_count": 61,
     "metadata": {},
     "output_type": "execute_result"
    }
   ],
   "source": [
    "os.getcwd()"
   ]
  },
  {
   "cell_type": "code",
   "execution_count": 62,
   "metadata": {
    "collapsed": false
   },
   "outputs": [
    {
     "data": {
      "text/plain": [
       "'C:\\\\Users\\\\pfsch\\\\Box Sync'"
      ]
     },
     "execution_count": 62,
     "metadata": {},
     "output_type": "execute_result"
    }
   ],
   "source": [
    "os.chdir(r'C:\\Users\\pfsch\\Box Sync')\n",
    "os.getcwd()"
   ]
  },
  {
   "cell_type": "code",
   "execution_count": 64,
   "metadata": {
    "collapsed": false
   },
   "outputs": [
    {
     "data": {
      "text/plain": [
       "'C:\\\\Users\\\\pfsch\\\\Box Sync\\\\tutorial\\\\python\\\\2017_01_28_python_access_other_folders'"
      ]
     },
     "execution_count": 64,
     "metadata": {},
     "output_type": "execute_result"
    }
   ],
   "source": [
    "# Go back to the folder we started in\n",
    "os.chdir(starting_path)\n",
    "os.getcwd()"
   ]
  },
  {
   "cell_type": "markdown",
   "metadata": {},
   "source": [
    "Now try with **relative paths**"
   ]
  },
  {
   "cell_type": "code",
   "execution_count": 65,
   "metadata": {
    "collapsed": false
   },
   "outputs": [
    {
     "data": {
      "text/plain": [
       "'C:\\\\Users\\\\pfsch\\\\Box Sync\\\\tutorial'"
      ]
     },
     "execution_count": 65,
     "metadata": {},
     "output_type": "execute_result"
    }
   ],
   "source": [
    "os.chdir('..\\..')\n",
    "os.getcwd()"
   ]
  },
  {
   "cell_type": "code",
   "execution_count": 66,
   "metadata": {
    "collapsed": false
   },
   "outputs": [
    {
     "data": {
      "text/plain": [
       "'C:\\\\Users\\\\pfsch\\\\Box Sync\\\\tutorial\\\\python'"
      ]
     },
     "execution_count": 66,
     "metadata": {},
     "output_type": "execute_result"
    }
   ],
   "source": [
    "os.chdir('python')\n",
    "os.getcwd()"
   ]
  },
  {
   "cell_type": "code",
   "execution_count": 68,
   "metadata": {
    "collapsed": true
   },
   "outputs": [],
   "source": [
    "# Go back to the starting folder\n",
    "os.chdir(starting_path)"
   ]
  },
  {
   "cell_type": "markdown",
   "metadata": {},
   "source": [
    "## 3. Use absolute paths\n",
    "This one is simpler, but more susceptible to breaking if you move your folder around on your computer or between computers. Regardless, here you go:"
   ]
  },
  {
   "cell_type": "code",
   "execution_count": 70,
   "metadata": {
    "collapsed": false
   },
   "outputs": [
    {
     "data": {
      "text/plain": [
       "'C:\\\\Users\\\\pfsch\\\\Box Sync\\\\tutorial\\\\python\\\\2017_01_28_python_access_other_folders'"
      ]
     },
     "execution_count": 70,
     "metadata": {},
     "output_type": "execute_result"
    }
   ],
   "source": [
    "os.getcwd()"
   ]
  },
  {
   "cell_type": "markdown",
   "metadata": {},
   "source": [
    "Try opening a text file I have elsewhere on my machine. I'll look at the readme markdown file for my resources folder."
   ]
  },
  {
   "cell_type": "code",
   "execution_count": 76,
   "metadata": {
    "collapsed": false
   },
   "outputs": [
    {
     "name": "stdout",
     "output_type": "stream",
     "text": [
      "# Resources folder\n",
      "\n",
      "\n",
      "\n",
      "My plan is to keep the resources folder full of content that I did not produce.\n",
      "\n",
      "Articles, books, theses by other authors. Not my own.\n",
      "\n",
      "Journal articles organized in Mendeley\n",
      "\n",
      "\n",
      "\n",
      "Installation information for my computer\n",
      "\n"
     ]
    }
   ],
   "source": [
    "f = open(r'C:\\Users\\pfsch\\Box Sync\\resources\\readme.md','r')\n",
    "for line in f:\n",
    "    print(line)"
   ]
  },
  {
   "cell_type": "markdown",
   "metadata": {},
   "source": [
    "That looks successful, and I did not have to change directory. \n",
    "\n",
    "What about using a path that is half absolute and half relative? This could be accomplished by using a path that is relative to my home directory. This way, if I install my Box Sync folder in my home directory on multiple computers, the paths will not break."
   ]
  },
  {
   "cell_type": "code",
   "execution_count": 78,
   "metadata": {
    "collapsed": false
   },
   "outputs": [
    {
     "data": {
      "text/plain": [
       "'C:\\\\Users\\\\pfsch'"
      ]
     },
     "execution_count": 78,
     "metadata": {},
     "output_type": "execute_result"
    }
   ],
   "source": [
    "os.path.expanduser('~')"
   ]
  },
  {
   "cell_type": "code",
   "execution_count": 86,
   "metadata": {
    "collapsed": false
   },
   "outputs": [
    {
     "data": {
      "text/plain": [
       "'C:\\\\Users\\\\pfsch\\\\Box Sync\\\\resources\\\\templates\\\\python'"
      ]
     },
     "execution_count": 86,
     "metadata": {},
     "output_type": "execute_result"
    }
   ],
   "source": [
    "home_dir = os.path.expanduser('~')\n",
    "os.chdir(os.path.join(home_dir,r'Box Sync\\resources\\templates\\python'))\n",
    "os.getcwd()"
   ]
  },
  {
   "cell_type": "markdown",
   "metadata": {},
   "source": [
    "# Managing modules and scripts\n",
    "\n",
    "## Import a .py module from another folder: sys.path\n",
    "`sys.path` is the source lookup path where Python searches for modules that you use import using `import module_name`. "
   ]
  },
  {
   "cell_type": "code",
   "execution_count": 2,
   "metadata": {
    "collapsed": false
   },
   "outputs": [
    {
     "data": {
      "text/plain": [
       "['',\n",
       " 'C:\\\\Users\\\\pfsch\\\\Anaconda3\\\\python35.zip',\n",
       " 'C:\\\\Users\\\\pfsch\\\\Anaconda3\\\\DLLs',\n",
       " 'C:\\\\Users\\\\pfsch\\\\Anaconda3\\\\lib',\n",
       " 'C:\\\\Users\\\\pfsch\\\\Anaconda3',\n",
       " 'C:\\\\Users\\\\pfsch\\\\Anaconda3\\\\lib\\\\site-packages',\n",
       " 'C:\\\\Users\\\\pfsch\\\\Anaconda3\\\\lib\\\\site-packages\\\\Sphinx-1.4.6-py3.5.egg',\n",
       " 'C:\\\\Users\\\\pfsch\\\\Anaconda3\\\\lib\\\\site-packages\\\\win32',\n",
       " 'C:\\\\Users\\\\pfsch\\\\Anaconda3\\\\lib\\\\site-packages\\\\win32\\\\lib',\n",
       " 'C:\\\\Users\\\\pfsch\\\\Anaconda3\\\\lib\\\\site-packages\\\\Pythonwin',\n",
       " 'C:\\\\Users\\\\pfsch\\\\Anaconda3\\\\lib\\\\site-packages\\\\setuptools-27.2.0-py3.5.egg',\n",
       " 'C:\\\\Users\\\\pfsch\\\\Anaconda3\\\\lib\\\\site-packages\\\\IPython\\\\extensions',\n",
       " 'C:\\\\Users\\\\pfsch\\\\.ipython']"
      ]
     },
     "execution_count": 2,
     "metadata": {},
     "output_type": "execute_result"
    }
   ],
   "source": [
    "sys.path"
   ]
  },
  {
   "cell_type": "markdown",
   "metadata": {},
   "source": [
    "This is a list of paths. Add the new path in a different location using `sys.path.append(r'path')`. The `r` reads it in as a raw string, and adds extra backslashes to the path. Normally in strings, a `\\ ` is used to negate a special character, so in paths, python uses double slashes `\\\\`. Documentation on raw strings [here](https://docs.python.org/3.3/library/re.html#raw-string-notation). \n",
    "\n",
    "Note: Windows uses back slashes `\\ `, while Linux uses forward slashes `/`. In Linux, you don't have to worry about negating your backslahes because directory paths use a different character- the forward slash.\n",
    "\n",
    "For instance, connect to the directory where I keep my UROP_DNNG scripts: `C:\\Users\\pfsch\\Box Sync\\Projects\\urop\\GitHub_repo\\UROP_DNNG`"
   ]
  },
  {
   "cell_type": "code",
   "execution_count": 6,
   "metadata": {
    "collapsed": false
   },
   "outputs": [],
   "source": [
    "new_path = r'C:\\Users\\pfsch\\Box Sync\\Projects\\urop\\GitHub_repo\\UROP_DNNG'\n",
    "# Add if logic so that I don't add it numerous times\n",
    "# Even if I run this cell more than once, it won't add the path more than once\n",
    "if new_path not in sys.path:\n",
    "    sys.path.append(new_path)"
   ]
  },
  {
   "cell_type": "code",
   "execution_count": 7,
   "metadata": {
    "collapsed": false
   },
   "outputs": [
    {
     "data": {
      "text/plain": [
       "['',\n",
       " 'C:\\\\Users\\\\pfsch\\\\Anaconda3\\\\python35.zip',\n",
       " 'C:\\\\Users\\\\pfsch\\\\Anaconda3\\\\DLLs',\n",
       " 'C:\\\\Users\\\\pfsch\\\\Anaconda3\\\\lib',\n",
       " 'C:\\\\Users\\\\pfsch\\\\Anaconda3',\n",
       " 'C:\\\\Users\\\\pfsch\\\\Anaconda3\\\\lib\\\\site-packages',\n",
       " 'C:\\\\Users\\\\pfsch\\\\Anaconda3\\\\lib\\\\site-packages\\\\Sphinx-1.4.6-py3.5.egg',\n",
       " 'C:\\\\Users\\\\pfsch\\\\Anaconda3\\\\lib\\\\site-packages\\\\win32',\n",
       " 'C:\\\\Users\\\\pfsch\\\\Anaconda3\\\\lib\\\\site-packages\\\\win32\\\\lib',\n",
       " 'C:\\\\Users\\\\pfsch\\\\Anaconda3\\\\lib\\\\site-packages\\\\Pythonwin',\n",
       " 'C:\\\\Users\\\\pfsch\\\\Anaconda3\\\\lib\\\\site-packages\\\\setuptools-27.2.0-py3.5.egg',\n",
       " 'C:\\\\Users\\\\pfsch\\\\Anaconda3\\\\lib\\\\site-packages\\\\IPython\\\\extensions',\n",
       " 'C:\\\\Users\\\\pfsch\\\\.ipython',\n",
       " 'C:\\\\Users\\\\pfsch\\\\Box Sync\\\\Projects\\\\urop\\\\GitHub_repo\\\\UROP_DNNG']"
      ]
     },
     "execution_count": 7,
     "metadata": {},
     "output_type": "execute_result"
    }
   ],
   "source": [
    "sys.path"
   ]
  },
  {
   "cell_type": "markdown",
   "metadata": {},
   "source": [
    "## Find the path of a module\n",
    "A handy built-in capability for finding the path where a module's raw source code is located: If I import a module called `new_module`, I can use the command `new_module.__file__` to find where the source code is located on my machine. Try this out with the `os` module:"
   ]
  },
  {
   "cell_type": "code",
   "execution_count": 87,
   "metadata": {
    "collapsed": false
   },
   "outputs": [
    {
     "data": {
      "text/plain": [
       "'C:\\\\Users\\\\pfsch\\\\Anaconda3\\\\lib\\\\os.py'"
      ]
     },
     "execution_count": 87,
     "metadata": {},
     "output_type": "execute_result"
    }
   ],
   "source": [
    "os.__file__"
   ]
  },
  {
   "cell_type": "code",
   "execution_count": 90,
   "metadata": {
    "collapsed": false
   },
   "outputs": [
    {
     "data": {
      "text/plain": [
       "'C:\\\\Users\\\\pfsch\\\\Anaconda3\\\\lib\\\\site-packages\\\\numpy\\\\__init__.py'"
      ]
     },
     "execution_count": 90,
     "metadata": {},
     "output_type": "execute_result"
    }
   ],
   "source": [
    "import numpy as np\n",
    "np.__file__"
   ]
  },
  {
   "cell_type": "markdown",
   "metadata": {},
   "source": [
    "Imagine you write a module that depends on static text files. I want the module to know how to find those files independent of where it's deployed (assuming it has the same directory structure). Use that file attribute `new_module.__file__` as the base path for all relative paths. "
   ]
  },
  {
   "cell_type": "markdown",
   "metadata": {},
   "source": [
    "## Future option: Pip packages\n",
    "In the future, when my packges are stable, I can install the module to python using pip. In this case, I would not have to add the path that holds my scripts in each instance of python. Pip would install the module into the `site-packages` directory which is part of `sys.path`.\n",
    "\n",
    "If I later needed to modify a package that I had already installed using pip, I would have to reinstall it and pip would overwrite the previous version.\n",
    "\n",
    "This is the same logic as using `pip install numpy` or any other similar package.\n",
    "\n",
    "In order to do this, I would have to look up `setup.py python` to figure out how to package up my code for pip to operate on."
   ]
  },
  {
   "cell_type": "code",
   "execution_count": null,
   "metadata": {
    "collapsed": true
   },
   "outputs": [],
   "source": []
  }
 ],
 "metadata": {
  "anaconda-cloud": {},
  "kernelspec": {
   "display_name": "Python [conda root]",
   "language": "python",
   "name": "conda-root-py"
  },
  "language_info": {
   "codemirror_mode": {
    "name": "ipython",
    "version": 3
   },
   "file_extension": ".py",
   "mimetype": "text/x-python",
   "name": "python",
   "nbconvert_exporter": "python",
   "pygments_lexer": "ipython3",
   "version": "3.5.2"
  }
 },
 "nbformat": 4,
 "nbformat_minor": 1
}
